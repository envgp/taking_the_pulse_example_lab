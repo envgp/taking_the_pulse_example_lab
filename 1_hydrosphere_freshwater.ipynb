{
  "cells": [
    {
      "cell_type": "markdown",
      "metadata": {
        "id": "view-in-github",
        "colab_type": "text"
      },
      "source": [
        "<a href=\"https://colab.research.google.com/github/envgp/taking_the_pulse_example_lab/blob/main/1_hydrosphere_freshwater.ipynb\" target=\"_parent\"><img src=\"https://colab.research.google.com/assets/colab-badge.svg\" alt=\"Open In Colab\"/></a>"
      ]
    },
    {
      "cell_type": "markdown",
      "id": "71db3bcb-0df5-4cf6-b6ab-8d9d089d060d",
      "metadata": {
        "id": "71db3bcb-0df5-4cf6-b6ab-8d9d089d060d"
      },
      "source": [
        "# Week 6: Hydrosphere-Freshwater: Example of California's Central Valley\n",
        "\n",
        "Rosemary Knight (rknight@stanford.edu) & Seogi Kang (sgkang09@stanford.edu), Stanford Environmental Geophysics Group\n",
        "\n",
        "This week, we will explore the terrestrial water system including and how the system responds with extreme weather events (e.g., droughts) due to the climate change. Data sets used this lab are: 1) Drought intensity; 2) InSAR (interferrometric synthetic aperture radar) providing surface deformation; 3) SWE (snow water equivalence) providing mass of snow/ice/water. California's Central Valley, which is one of the most productive farmland in the world, will be the region of interest; there will be several subregions, which will allow each group to work on different subregions. "
      ]
    },
    {
      "cell_type": "markdown",
      "source": [
        "This lab is supposed be submitted by `DUE_DATE`. You are supposed to put your answer questions within this notebook and share the completed notebook with sgkang09@stanford.edu using the `Share` banner located at the top right corner of this notebook. When sharing your notebook, please change the name of the notebook and add your name and sunetid (e.g., `1_hydrosphere_freshwater_firstname_lastname_sunetid.ipynb`)"
      ],
      "metadata": {
        "id": "IJjGPXfM1ZgD"
      },
      "id": "IJjGPXfM1ZgD"
    },
    {
      "cell_type": "markdown",
      "id": "e91d52b8-21d9-4753-93eb-e24d0bfe9f3f",
      "metadata": {
        "id": "e91d52b8-21d9-4753-93eb-e24d0bfe9f3f"
      },
      "source": [
        "For each data set, we will work through the following four steps:\n",
        "\n",
        "- Step 1: Understanding data \n",
        "- Step 2: Visualizing data \n",
        "- Step 3: Processing data\n",
        "- Step 4: Interpreting data\n",
        "\n",
        "We then interpret all data sets together. \n",
        "\n",
        "Before diving into the lab, we are going to downlaod the data and install required python packages. "
      ]
    },
    {
      "cell_type": "code",
      "source": [
        "!git clone https://premonition.stanford.edu/sgkang09/taking_the_pulse_data.git"
      ],
      "metadata": {
        "id": "pyoT0JMjcB2y"
      },
      "id": "pyoT0JMjcB2y",
      "execution_count": null,
      "outputs": []
    },
    {
      "cell_type": "code",
      "source": [
        "!pip install xarray numpy pandas geopandas cartopy==0.19.0.post1 ipywidgets"
      ],
      "metadata": {
        "id": "udhMua8KcD52"
      },
      "id": "udhMua8KcD52",
      "execution_count": null,
      "outputs": []
    },
    {
      "cell_type": "code",
      "execution_count": null,
      "id": "df062d2c-64ee-4d52-92ff-93b2403126a5",
      "metadata": {
        "id": "df062d2c-64ee-4d52-92ff-93b2403126a5"
      },
      "outputs": [],
      "source": [
        "import numpy as np\n",
        "import xarray as xr\n",
        "import pandas as pd\n",
        "import geopandas as gpd\n",
        "import matplotlib.pyplot as plt\n",
        "import matplotlib.dates as mdates\n",
        "import matplotlib\n",
        "import cartopy.crs as ccrs\n",
        "import cartopy.feature as cf\n",
        "import datetime\n",
        "matplotlib.rcParams['font.size'] = 14"
      ]
    },
    {
      "cell_type": "markdown",
      "id": "3e8961ab-21f7-4a98-a54c-482536a44435",
      "metadata": {
        "id": "3e8961ab-21f7-4a98-a54c-482536a44435"
      },
      "source": [
        "## Drought intensity\n",
        "\n",
        "### Understanding data"
      ]
    },
    {
      "cell_type": "markdown",
      "id": "a358e50a-d83c-46f9-a5e1-3955acb313a7",
      "metadata": {
        "id": "a358e50a-d83c-46f9-a5e1-3955acb313a7"
      },
      "source": [
        "\n",
        "The Drought intensity provides a metric for a level of drought. D1 is the least intense level and D4 the most intense. Drought is defined as a moisture deficit bad enough to have social, environmental or economic effects. Futher details about the drought intensity can be found at: https://droughtmonitor.unl.edu/About/WhatistheUSDM.aspx\n",
        "    \n",
        "A form of the drought intesity data that we are going to work on is the time-series with a temporal resolution of 6 days. \n",
        "\n",
        "Let's load the drought intensity time-series for California in a csv form. "
      ]
    },
    {
      "cell_type": "code",
      "execution_count": null,
      "id": "1815e2c0-bbdf-4a10-b09e-9f6193e2cf56",
      "metadata": {
        "id": "1815e2c0-bbdf-4a10-b09e-9f6193e2cf56"
      },
      "outputs": [],
      "source": [
        "df_drought_index = pd.read_csv(\"./taking_the_pulse_data/data/dm_export_20150101_20191231.csv\")"
      ]
    },
    {
      "cell_type": "code",
      "execution_count": null,
      "id": "a266462f-17aa-4724-a4cd-c8eca47bac45",
      "metadata": {
        "id": "a266462f-17aa-4724-a4cd-c8eca47bac45"
      },
      "outputs": [],
      "source": [
        "df_drought_index.head(3)"
      ]
    },
    {
      "cell_type": "markdown",
      "id": "4d8b6806-fddb-4c57-8616-ff46a6981ef0",
      "metadata": {
        "id": "4d8b6806-fddb-4c57-8616-ff46a6981ef0"
      },
      "source": [
        "- Column names of the drought intensity data. \n",
        "    - `None`: No drought\n",
        "    - `D0`: Abnormally Dry\n",
        "    - `D1`: Moderate Drought\n",
        "    - `D2`: Severe Drought\n",
        "    - `D3`: Extreme Drought\n",
        "    - `D4`: Exceptional Drought\n",
        "    - `ValidStart`: Starting date\n",
        "    - `ValidEnd`: Ending date\n"
      ]
    },
    {
      "cell_type": "code",
      "execution_count": null,
      "id": "5e24ea88-bc16-4302-8b81-149cc7ae8deb",
      "metadata": {
        "id": "5e24ea88-bc16-4302-8b81-149cc7ae8deb"
      },
      "outputs": [],
      "source": [
        "start_time = pd.to_datetime(df_drought_index['ValidStart'].values)\n",
        "end_time = pd.to_datetime(df_drought_index['ValidEnd'].values)\n",
        "# Calculate the time interval between the two adjacent time channels\n",
        "dts = end_time.to_pydatetime() - start_time.to_pydatetime()\n",
        "dts[0]"
      ]
    },
    {
      "cell_type": "code",
      "execution_count": null,
      "id": "7096364a-8a25-4a59-8e8f-40eb5b82d0bd",
      "metadata": {
        "id": "7096364a-8a25-4a59-8e8f-40eb5b82d0bd"
      },
      "outputs": [],
      "source": [
        "# center time between start and end times\n",
        "center_time = start_time.shift(3, freq='D')"
      ]
    },
    {
      "cell_type": "markdown",
      "id": "8804d5ef-8d87-4baf-9ff0-607815203cda",
      "metadata": {
        "id": "8804d5ef-8d87-4baf-9ff0-607815203cda"
      },
      "source": [
        "### Visualizing data"
      ]
    },
    {
      "cell_type": "code",
      "execution_count": null,
      "id": "34d65eaa-944e-41db-8c94-da4d387bc7d1",
      "metadata": {
        "id": "34d65eaa-944e-41db-8c94-da4d387bc7d1"
      },
      "outputs": [],
      "source": [
        "fig = plt.figure(figsize=(10, 3))\n",
        "colors = ['yellow', 'orange', 'C1', 'red', 'darkred']\n",
        "plt.fill_between(center_time, df_drought_index['D0'], y2=df_drought_index['D1'], color=colors[0], label='D0')\n",
        "plt.fill_between(center_time, df_drought_index['D1'], y2=df_drought_index['D2'], color=colors[1], label='D1')\n",
        "plt.fill_between(center_time, df_drought_index['D2'], y2=df_drought_index['D3'], color=colors[2], label='D2')\n",
        "plt.fill_between(center_time, df_drought_index['D3'], y2=df_drought_index['D4'], color=colors[3], label='D3')\n",
        "plt.fill_between(center_time, df_drought_index['D4'], y2=0, color=colors[4], label='D4')\n",
        "plt.legend()\n",
        "ax = plt.gca()\n",
        "fmt_month = mdates.MonthLocator()\n",
        "ax.xaxis.set_minor_locator(fmt_month)\n",
        "ax.grid(True, which='both', alpha=0.2)\n",
        "ax.set_ylabel(\"Drought intensity\")\n",
        "ax.set_title(\"California\")\n",
        "# plt.plot(start_time, df_drought_index['D5'])"
      ]
    },
    {
      "cell_type": "markdown",
      "id": "3550b511-3fe5-43b0-a28a-4b850bdefc27",
      "metadata": {
        "id": "3550b511-3fe5-43b0-a28a-4b850bdefc27"
      },
      "source": [
        "Go the the following link: https://droughtmonitor.unl.edu/DmData/TimeSeries.aspx and choose `AreaType`: State & `Area`: California; see if the above plot is similar to the one shown on the webpage. "
      ]
    },
    {
      "cell_type": "markdown",
      "id": "3ceb647c-e241-4234-8267-6fa3c44d55de",
      "metadata": {
        "id": "3ceb647c-e241-4234-8267-6fa3c44d55de"
      },
      "source": [
        "### Interpreting data\n",
        "\n",
        "#### Q1: What is the major trend that you see in the drought intensity time-series shown above plot?"
      ]
    },
    {
      "cell_type": "markdown",
      "id": "c6ff6a71-5045-4c2f-8734-ed28f14d88ac",
      "metadata": {
        "id": "c6ff6a71-5045-4c2f-8734-ed28f14d88ac"
      },
      "source": [
        "## SWE data\n",
        "### Understanding data\n",
        "\n",
        "Snow water equivalent (SWE) data provides information about the mass changes of snow/ice/water around the mountain ranges near the Central Valley of California. Sophisticated processings were applied to obtain these data, and two major inputs were: 1) remotely sensed snow cover images (e.g., MODIS Snow-Covered Area and Grain size) and 2) in situ snow sensor observations (on the ground). Further details about this data set can be found at the following link:  https://doi.org/10.1002/wrcr.20387. \n",
        "\n",
        "Spatial resolution was about 500 m and the temporal resolution was monthly. \n",
        "\n",
        "Let load the data. "
      ]
    },
    {
      "cell_type": "code",
      "execution_count": null,
      "id": "926d2965-887f-431f-8c70-75a4abf1d80a",
      "metadata": {
        "id": "926d2965-887f-431f-8c70-75a4abf1d80a"
      },
      "outputs": [],
      "source": [
        "swe_data = xr.load_dataset(\"./taking_the_pulse_data/data/swe_data.nc\")"
      ]
    },
    {
      "cell_type": "code",
      "source": [
        "swe_data"
      ],
      "metadata": {
        "id": "5_DtWvukluPS"
      },
      "id": "5_DtWvukluPS",
      "execution_count": null,
      "outputs": []
    },
    {
      "cell_type": "code",
      "execution_count": null,
      "id": "a6eb6852-2827-4289-9541-db3a922877e5",
      "metadata": {
        "id": "a6eb6852-2827-4289-9541-db3a922877e5"
      },
      "outputs": [],
      "source": [
        "# sampling interval in a longitudal direction\n",
        "x_swe = swe_data['lon']\n",
        "np.diff(x_swe)[0] * (111*1e3)"
      ]
    },
    {
      "cell_type": "code",
      "execution_count": null,
      "id": "b1819b79-0b8b-47b4-86da-15a36f2e3c2a",
      "metadata": {
        "id": "b1819b79-0b8b-47b4-86da-15a36f2e3c2a"
      },
      "outputs": [],
      "source": [
        "# sampling interval in a latitudal direction\n",
        "y_swe = swe_data['lat']\n",
        "np.diff(y_swe)[0] * (111*1e3)"
      ]
    },
    {
      "cell_type": "code",
      "execution_count": null,
      "id": "1ba4714f-210f-4443-a09a-2f95b62bb01e",
      "metadata": {
        "id": "1ba4714f-210f-4443-a09a-2f95b62bb01e"
      },
      "outputs": [],
      "source": [
        "# sampling interval in a time direction\n",
        "time_swe = swe_data['time']\n",
        "time_swe.to_series().diff()[:5]"
      ]
    },
    {
      "cell_type": "markdown",
      "id": "01667c7b-960a-406a-a8c6-7a4d9ef8bf96",
      "metadata": {
        "id": "01667c7b-960a-406a-a8c6-7a4d9ef8bf96"
      },
      "source": [
        "### Visualizing data\n",
        "#### 2D map at a time channel"
      ]
    },
    {
      "cell_type": "code",
      "execution_count": null,
      "id": "5811f5c0-21c1-494f-9301-684b0b2975fe",
      "metadata": {
        "id": "5811f5c0-21c1-494f-9301-684b0b2975fe"
      },
      "outputs": [],
      "source": [
        "# fig, ax = plt.subplots(1,1, figsize=(10, 10))\n",
        "i_time = 100\n",
        "fig = plt.figure(figsize=(10, 10))\n",
        "ax = plt.axes(projection=ccrs.PlateCarree())\n",
        "out = swe_data.swe.isel(time=i_time).plot(ax=ax, cmap='binary_r', vmin=0, vmax=2)\n",
        "ax.set_aspect(1)\n",
        "ax.set_facecolor('lightblue')"
      ]
    },
    {
      "cell_type": "markdown",
      "id": "a2bb07d1-4177-4807-af2f-b8132994e975",
      "metadata": {
        "id": "a2bb07d1-4177-4807-af2f-b8132994e975"
      },
      "source": [
        "Just show the data"
      ]
    },
    {
      "cell_type": "code",
      "source": [
        "swe_data.swe.shape"
      ],
      "metadata": {
        "id": "5ahAvZlfmD0x"
      },
      "id": "5ahAvZlfmD0x",
      "execution_count": null,
      "outputs": []
    },
    {
      "cell_type": "code",
      "execution_count": null,
      "id": "9dbefdb8-b162-4a78-800d-cd2fb2b3af99",
      "metadata": {
        "id": "9dbefdb8-b162-4a78-800d-cd2fb2b3af99"
      },
      "outputs": [],
      "source": [
        "# find indicies of pixels where the data are present\n",
        "index_active_swe = ~np.isnan(swe_data.swe.data).all(axis=0)\n",
        "swe_active = swe_data.swe.data[:,index_active_swe]\n",
        "\n",
        "# get gridded points of SWE data\n",
        "Xswe, Yswe = np.meshgrid(x_swe, y_swe)\n",
        "Xswe_active = Xswe[index_active_swe]\n",
        "Yswe_active = Yswe[index_active_swe]"
      ]
    },
    {
      "cell_type": "code",
      "source": [
        "swe_active.shape\n"
      ],
      "metadata": {
        "id": "j0X1t2T3mM31"
      },
      "id": "j0X1t2T3mM31",
      "execution_count": null,
      "outputs": []
    },
    {
      "cell_type": "markdown",
      "id": "d37ef625-378a-42a9-ad83-f75fc856a375",
      "metadata": {
        "id": "d37ef625-378a-42a9-ad83-f75fc856a375"
      },
      "source": [
        "Add other geographical features; plot a data location at i-th pixel."
      ]
    },
    {
      "cell_type": "code",
      "execution_count": null,
      "id": "54802f49-965f-4f07-963c-c1af30548f6f",
      "metadata": {
        "id": "54802f49-965f-4f07-963c-c1af30548f6f"
      },
      "outputs": [],
      "source": [
        "i_time = 100\n",
        "i_pixel = -100000\n",
        "fig = plt.figure(figsize=(10, 10))\n",
        "ax = plt.axes(projection=ccrs.PlateCarree())\n",
        "# ax.axes.add_feature(cf.BORDERS)\n",
        "ax.axes.add_feature(cf.COASTLINE)\n",
        "ax.axes.add_feature(cf.LAND);\n",
        "ax.axes.add_feature(cf.STATES);\n",
        "out = swe_data.swe.isel(time=i_time).plot(ax=ax, cmap='binary_r', vmin=0, vmax=2)\n",
        "ax.axes.add_feature(cf.RIVERS);\n",
        "ax.set_facecolor('lightblue')\n",
        "# ax.axis('off')\n",
        "ax.set_aspect(1)\n",
        "ax.plot(Xswe_active[i_pixel], Yswe_active[i_pixel], 'ro')"
      ]
    },
    {
      "cell_type": "markdown",
      "id": "1fff1e68-f735-4848-8eff-e45d14ddefd7",
      "metadata": {
        "id": "1fff1e68-f735-4848-8eff-e45d14ddefd7"
      },
      "source": [
        "### Time series at a grid pixel"
      ]
    },
    {
      "cell_type": "code",
      "execution_count": null,
      "id": "2c5011a0-3573-4714-a54b-795d21b32023",
      "metadata": {
        "id": "2c5011a0-3573-4714-a54b-795d21b32023"
      },
      "outputs": [],
      "source": [
        "i_pixel = -100000\n",
        "fig, ax = plt.subplots(1,1,figsize=(10, 3))\n",
        "ax.plot(swe_data.swe.time, swe_active[:,i_pixel])\n",
        "fmt_month = mdates.MonthLocator()\n",
        "ax.xaxis.set_minor_locator(fmt_month)\n",
        "ax.grid(True, which='both', alpha=0.2)\n",
        "ax.set_xlim(datetime.date(2015, 1, 1), datetime.date(2020, 1, 1))\n",
        "ax.xaxis.set_major_formatter(mdates.DateFormatter('%Y-%m'))\n",
        "ax.set_ylabel(\"SWE (m)\")"
      ]
    },
    {
      "cell_type": "markdown",
      "id": "e8fc9843-de3f-435d-8a92-abb4518ff976",
      "metadata": {
        "id": "e8fc9843-de3f-435d-8a92-abb4518ff976"
      },
      "source": [
        "### Processing data\n",
        "\n",
        "Calculate the spatial integral of the SWE data resulting in a total SWE time-series."
      ]
    },
    {
      "cell_type": "code",
      "execution_count": null,
      "id": "0d59bb00-dd40-4043-b85f-cd85eeea8732",
      "metadata": {
        "id": "0d59bb00-dd40-4043-b85f-cd85eeea8732"
      },
      "outputs": [],
      "source": [
        "# area of a each pixel [m^2]\n",
        "area_pixel_swe = (462.5)**2\n",
        "# total swe time-series in [km^3]\n",
        "total_swe_values = swe_active.sum(axis=1)* area_pixel_swe / 1e9"
      ]
    },
    {
      "cell_type": "code",
      "execution_count": null,
      "id": "a94fe715-9e02-4ee6-8402-89a7069076a8",
      "metadata": {
        "id": "a94fe715-9e02-4ee6-8402-89a7069076a8"
      },
      "outputs": [],
      "source": []
    },
    {
      "cell_type": "code",
      "execution_count": null,
      "id": "58d3c28e-7be7-4329-ba46-2234d45169b6",
      "metadata": {
        "id": "58d3c28e-7be7-4329-ba46-2234d45169b6"
      },
      "outputs": [],
      "source": [
        "fig, ax = plt.subplots(1,1,figsize=(10, 3))\n",
        "ax.plot(swe_data.time, total_swe_values)\n",
        "fmt_month = mdates.MonthLocator()\n",
        "ax.xaxis.set_minor_locator(fmt_month)\n",
        "ax.grid(True, which='both', alpha=0.2)\n",
        "ax.set_xlim(datetime.date(2015, 1, 1), datetime.date(2020, 1, 1))\n",
        "ax.xaxis.set_major_formatter(mdates.DateFormatter('%Y-%m'))\n",
        "ax.set_ylabel(\"Total SWE (km$^3$)\")"
      ]
    },
    {
      "cell_type": "markdown",
      "id": "0ad44a77-6b31-4741-a341-4aeb8a4f5dcb",
      "metadata": {
        "id": "0ad44a77-6b31-4741-a341-4aeb8a4f5dcb"
      },
      "source": [
        "### Interpreting data\n",
        "\n",
        "For interpreting the SWE data, let plot the toatl SWE time-series and the drought intensity time-series together. "
      ]
    },
    {
      "cell_type": "code",
      "execution_count": null,
      "id": "7df4105e-41ba-43e2-8c59-0f1c820ff42c",
      "metadata": {
        "id": "7df4105e-41ba-43e2-8c59-0f1c820ff42c"
      },
      "outputs": [],
      "source": [
        "fig, ax = plt.subplots(1,1,figsize=(10, 3))\n",
        "ax.plot(swe_data.time, total_swe_values, zorder=999, lw=4)\n",
        "fmt_month = mdates.MonthLocator()\n",
        "ax.xaxis.set_minor_locator(fmt_month)\n",
        "ax.grid(True, which='both', alpha=0.2)\n",
        "ax.set_xlim(datetime.date(2015, 1, 1), datetime.date(2020, 1, 1))\n",
        "ax.xaxis.set_major_formatter(mdates.DateFormatter('%Y-%m'))\n",
        "ax.set_ylabel(\"Total SWE (km$^3$)\")\n",
        "\n",
        "alpha_value = 0.3\n",
        "\n",
        "ax_1 = ax.twinx()\n",
        "colors = ['yellow', 'orange', 'C1', 'red', 'darkred']\n",
        "ax_1.fill_between(center_time, df_drought_index['D0'], y2=df_drought_index['D1'], color=colors[0], label='D0', alpha=alpha_value)\n",
        "ax_1.fill_between(center_time, df_drought_index['D1'], y2=df_drought_index['D2'], color=colors[1], label='D1', alpha=alpha_value)\n",
        "ax_1.fill_between(center_time, df_drought_index['D2'], y2=df_drought_index['D3'], color=colors[2], label='D2', alpha=alpha_value)\n",
        "ax_1.fill_between(center_time, df_drought_index['D3'], y2=df_drought_index['D4'], color=colors[3], label='D3', alpha=alpha_value)\n",
        "ax_1.fill_between(center_time, df_drought_index['D4'], y2=0, color=colors[4], label='D4', alpha=alpha_value)\n",
        "ax_1.legend()\n",
        "ax = plt.gca()\n",
        "ax_1.set_ylabel(\"Drought intensity\")"
      ]
    },
    {
      "cell_type": "markdown",
      "id": "f4090593-5ffc-4d9d-a254-4c6cd1a52c3c",
      "metadata": {
        "id": "f4090593-5ffc-4d9d-a254-4c6cd1a52c3c"
      },
      "source": [
        "#### Q2: Do you see any correlation between the two time-series? If so, is the correlation making sense to you? Why?"
      ]
    },
    {
      "cell_type": "markdown",
      "id": "d57b6bd2-5f8a-403b-b0b5-0a8ac7ecb285",
      "metadata": {
        "id": "d57b6bd2-5f8a-403b-b0b5-0a8ac7ecb285"
      },
      "source": [
        "## InSAR data\n",
        "### Understanding data\n",
        "\n",
        "Interferrometric synthetic aperture radar (InSAR) data measures the phase difference of the electromagnetic waves transmitted from the satellite to the ground surface. With sophisticated processing, time series of surface deformation are obtained with about 6-7 days of temporal resolution and about 20-100 m spatial resolution. This InSAR data were gridded onto a uniform grid with a cell size about 1 km x 1 km. Further details of these InSAR data can be found at the following link: https://data.cnra.ca.gov/dataset/tre-altamira-insar-subsidence.\n",
        "\n",
        "Let load the InSAR data. "
      ]
    },
    {
      "cell_type": "code",
      "execution_count": null,
      "id": "cfa16502-9a31-4113-a061-692bcd331b99",
      "metadata": {
        "id": "cfa16502-9a31-4113-a061-692bcd331b99"
      },
      "outputs": [],
      "source": [
        "insar_data = xr.load_dataset(\"./taking_the_pulse_data/data/insar_data.nc\")"
      ]
    },
    {
      "cell_type": "code",
      "execution_count": null,
      "id": "5ee8a8c1-5b30-4598-881a-e949249bc3a2",
      "metadata": {
        "id": "5ee8a8c1-5b30-4598-881a-e949249bc3a2"
      },
      "outputs": [],
      "source": [
        "# sampling interval in a longitudal direction\n",
        "x_insar = insar_data['lon']\n",
        "np.diff(x_insar)[0] * (111)"
      ]
    },
    {
      "cell_type": "code",
      "execution_count": null,
      "id": "eda3577c-e132-4235-a052-3a5916741dae",
      "metadata": {
        "id": "eda3577c-e132-4235-a052-3a5916741dae"
      },
      "outputs": [],
      "source": [
        "# sampling interval in a longitudal direction\n",
        "y_insar = insar_data['lat']\n",
        "np.diff(y_insar)[0] * (111)"
      ]
    },
    {
      "cell_type": "code",
      "execution_count": null,
      "id": "37ea6ca6-ab0b-4680-9b1e-e1b789b85104",
      "metadata": {
        "id": "37ea6ca6-ab0b-4680-9b1e-e1b789b85104"
      },
      "outputs": [],
      "source": [
        "# sampling interval in a time direction\n",
        "time_insar = insar_data['time']\n",
        "time_insar.to_series().diff()[:5]"
      ]
    },
    {
      "cell_type": "markdown",
      "id": "452a1b15-a948-48c9-92ec-77881072b111",
      "metadata": {
        "id": "452a1b15-a948-48c9-92ec-77881072b111"
      },
      "source": [
        "### Visualizing data\n",
        "#### 2D map at a time channel"
      ]
    },
    {
      "cell_type": "code",
      "execution_count": null,
      "id": "cca18671-ede2-448f-8c38-c79f0e3ff8c9",
      "metadata": {
        "id": "cca18671-ede2-448f-8c38-c79f0e3ff8c9"
      },
      "outputs": [],
      "source": [
        "i_time = -1\n",
        "fig = plt.figure(figsize=(10, 10))\n",
        "ax = plt.axes(projection=ccrs.PlateCarree())\n",
        "# ax.axes.add_feature(cf.BORDERS)\n",
        "ax.axes.add_feature(cf.COASTLINE)\n",
        "ax.axes.add_feature(cf.LAND);\n",
        "ax.axes.add_feature(cf.STATES);\n",
        "out = insar_data.insar_median.isel(time=i_time).plot(ax=ax, cmap='Spectral', vmin=-1200, vmax=5)\n",
        "# ax.axes.add_feature(cf.RIVERS);\n",
        "ax.set_facecolor('lightblue')\n",
        "# ax.axis('off')\n",
        "ax.set_aspect(1)\n",
        "# ax.plot(x_insar[600], y_insar[500], 'ro')"
      ]
    },
    {
      "cell_type": "code",
      "execution_count": null,
      "id": "066997b2-7488-4d03-bd68-6724297ca3ed",
      "metadata": {
        "id": "066997b2-7488-4d03-bd68-6724297ca3ed"
      },
      "outputs": [],
      "source": [
        "# find indicies of pixels where the data are present\n",
        "index_active_insar = ~np.isnan(insar_data.insar_median.data).all(axis=0)\n",
        "insar_active = insar_data.insar_median.data[:,index_active_insar]\n",
        "insar_active[np.isnan(insar_active)] = 0.\n",
        "# get gridded points of insar data\n",
        "Xinsar, Yinsar = np.meshgrid(x_insar, y_insar)\n",
        "Xinsar_active = Xinsar[index_active_insar]\n",
        "Yinsar_active = Yinsar[index_active_insar]"
      ]
    },
    {
      "cell_type": "code",
      "execution_count": null,
      "id": "f2b90ed1-d675-4d53-b399-9fd82666e98a",
      "metadata": {
        "id": "f2b90ed1-d675-4d53-b399-9fd82666e98a"
      },
      "outputs": [],
      "source": [
        "i_time = -1\n",
        "i_pixel = 10000\n",
        "\n",
        "fig = plt.figure(figsize=(10, 10))\n",
        "ax = plt.axes(projection=ccrs.PlateCarree())\n",
        "# ax.axes.add_feature(cf.BORDERS)\n",
        "ax.axes.add_feature(cf.COASTLINE)\n",
        "ax.axes.add_feature(cf.LAND);\n",
        "ax.axes.add_feature(cf.STATES);\n",
        "out = insar_data.insar_median.isel(time=i_time).plot(ax=ax, cmap='Spectral', vmin=-1200, vmax=5)\n",
        "# ax.axes.add_feature(cf.RIVERS);\n",
        "ax.set_facecolor('lightblue')\n",
        "# ax.axis('off')\n",
        "ax.set_aspect(1)\n",
        "ax.plot(Xinsar_active[i_pixel], Yinsar_active[i_pixel], 'ko')\n",
        "# ca_basins_cv.plot(facecolor='None', ax=ax)"
      ]
    },
    {
      "cell_type": "markdown",
      "id": "972fdb61-e80e-4f43-848c-14809f4396c4",
      "metadata": {
        "id": "972fdb61-e80e-4f43-848c-14809f4396c4"
      },
      "source": [
        "#### Time series at a grid pixel"
      ]
    },
    {
      "cell_type": "code",
      "execution_count": null,
      "id": "c0d4271b-b39e-4d76-9e37-fd76fda5e20e",
      "metadata": {
        "id": "c0d4271b-b39e-4d76-9e37-fd76fda5e20e"
      },
      "outputs": [],
      "source": [
        "fig, ax = plt.subplots(1,1,figsize=(10, 3))\n",
        "ax.plot(insar_data.insar_median.time, insar_active[:,i_pixel])\n",
        "fmt_month = mdates.MonthLocator()\n",
        "ax.xaxis.set_minor_locator(fmt_month)\n",
        "ax.grid(True, which='both', alpha=0.2)\n",
        "ax.set_xlim(datetime.date(2015, 1, 1), datetime.date(2020, 1, 1))\n",
        "ax.xaxis.set_major_formatter(mdates.DateFormatter('%Y-%m'))\n",
        "ax.set_ylabel(\"Deformation (mm)\")\n",
        "ax.set_title(\"\")"
      ]
    },
    {
      "cell_type": "markdown",
      "id": "5614f528-f076-4681-b0ec-8d57ae43f7f2",
      "metadata": {
        "id": "5614f528-f076-4681-b0ec-8d57ae43f7f2"
      },
      "source": [
        "### Processing data\n",
        "\n",
        "Import groundwater basins boundaries in the Central Valley. "
      ]
    },
    {
      "cell_type": "code",
      "execution_count": null,
      "id": "509ee5f4-4bd3-4ade-8d7d-0415d35114ac",
      "metadata": {
        "id": "509ee5f4-4bd3-4ade-8d7d-0415d35114ac"
      },
      "outputs": [],
      "source": [
        "# ca_basins = gpd.read_file(\"C:/Users/sgkan/Dropbox/Accelerator/Shapefiles/California Groundwater Basins/CA_Bullitin118Basins.shp\")\n",
        "# ca_basins_cv = ca_basins[\n",
        "#     (ca_basins['Basin_Name']=='SAN JOAQUIN VALLEY') | \n",
        "#     (ca_basins['Basin_Name']=='SACRAMENTO VALLEY') | \n",
        "#     (ca_basins['Basin_Name']=='REDDING AREA')\n",
        "# ]\n",
        "# ca_basins_cv.to_file(\"cv_gw_basins.geojson\")"
      ]
    },
    {
      "cell_type": "code",
      "execution_count": null,
      "id": "0e67c068-191a-43ba-bcd4-053cd02d98ec",
      "metadata": {
        "id": "0e67c068-191a-43ba-bcd4-053cd02d98ec"
      },
      "outputs": [],
      "source": [
        "ca_basins_cv = gpd.read_file(\"./taking_the_pulse_data/data/cv_gw_basins.geojson\")"
      ]
    },
    {
      "cell_type": "markdown",
      "id": "7e3373ae-38b4-4bc0-afd4-7f679b36cdf2",
      "metadata": {
        "id": "7e3373ae-38b4-4bc0-afd4-7f679b36cdf2"
      },
      "source": [
        "Plot them up on the InSAR data map. "
      ]
    },
    {
      "cell_type": "markdown",
      "id": "37e26bb2-87fa-4e15-8aaa-d8cfc92c19f9",
      "metadata": {
        "id": "37e26bb2-87fa-4e15-8aaa-d8cfc92c19f9"
      },
      "source": [
        "Select a subbasin of interest. "
      ]
    },
    {
      "cell_type": "code",
      "execution_count": null,
      "id": "9ad90107-697e-497e-9a8e-06c9df13bb54",
      "metadata": {
        "id": "9ad90107-697e-497e-9a8e-06c9df13bb54"
      },
      "outputs": [],
      "source": [
        "from ipywidgets import widgets, interact\n",
        "subbasin_names = np.sort(ca_basins_cv['Basin_Su_1'].values)\n",
        "def foo(name):\n",
        "    fig = plt.figure(figsize=(10, 10))\n",
        "    ax = plt.axes(projection=ccrs.PlateCarree())\n",
        "    ax.axes.add_feature(cf.COASTLINE)\n",
        "    ax.axes.add_feature(cf.LAND);\n",
        "    ax.axes.add_feature(cf.STATES);\n",
        "    out = insar_data.insar_median.isel(time=i_time).plot(ax=ax, cmap='Spectral', vmin=-1200, vmax=5)\n",
        "    ca_basins_cv.boundary.plot(ax=ax, color='k')\n",
        "    ca_basins_cv[ca_basins_cv['Basin_Su_1']==name].plot(ax=ax, color='red', alpha=0.5)\n",
        "    ax.set_title(name, fontsize=12)\n",
        "    plt.show()"
      ]
    },
    {
      "cell_type": "code",
      "execution_count": null,
      "id": "4bf9b32e",
      "metadata": {
        "id": "4bf9b32e"
      },
      "outputs": [],
      "source": [
        "Q = interact(foo, name=widgets.Select(options=subbasin_names, value='SAN JOAQUIN VALLEY - TULE'))"
      ]
    },
    {
      "cell_type": "code",
      "source": [
        "Q.widget.kwargs"
      ],
      "metadata": {
        "id": "xJrcXQ6inSl3"
      },
      "id": "xJrcXQ6inSl3",
      "execution_count": null,
      "outputs": []
    },
    {
      "cell_type": "code",
      "execution_count": null,
      "id": "a4b36eff-8eaa-4b23-9c7e-22d07a9d0f1e",
      "metadata": {
        "id": "a4b36eff-8eaa-4b23-9c7e-22d07a9d0f1e"
      },
      "outputs": [],
      "source": [
        "# find indicies of the points within a polygon\n",
        "name = Q.widget.kwargs['name']\n",
        "_pnts = gpd.points_from_xy(Xinsar_active, Yinsar_active)\n",
        "pnts = gpd.GeoDataFrame(geometry=_pnts)\n",
        "inds_active_subbasin = pnts.within(\n",
        "    ca_basins_cv.geometry[np.argwhere((ca_basins_cv['Basin_Su_1']==name).values)[0][0]]\n",
        ").values\n",
        "\n",
        "# calculate the mean time-series\n",
        "insar_mean_time_series = insar_active[:,inds_active_subbasin].mean(axis=1)"
      ]
    },
    {
      "cell_type": "markdown",
      "id": "33258923-8575-4096-87e2-819a0e7c5ef2",
      "metadata": {
        "id": "33258923-8575-4096-87e2-819a0e7c5ef2"
      },
      "source": [
        "Plot the mean InSAR time-series of the selected subbasin. "
      ]
    },
    {
      "cell_type": "code",
      "execution_count": null,
      "id": "85a91f79-440b-402d-8e35-e6d878c110bf",
      "metadata": {
        "id": "85a91f79-440b-402d-8e35-e6d878c110bf"
      },
      "outputs": [],
      "source": [
        "fig, ax = plt.subplots(1,1,figsize=(10, 3))\n",
        "# nskip = 10\n",
        "# out = ax.plot(time_insar, insar_active[:,inds_active_subbasin][:,::nskip], color='C0', alpha=0.1)\n",
        "out = ax.plot(time_insar, insar_mean_time_series, color='C0', lw=4)\n",
        "fmt_month = mdates.MonthLocator()\n",
        "ax.xaxis.set_minor_locator(fmt_month)\n",
        "ax.grid(True, which='both', alpha=0.2)\n",
        "ax.set_xlim(datetime.date(2015, 1, 1), datetime.date(2020, 1, 1))\n",
        "ax.xaxis.set_major_formatter(mdates.DateFormatter('%Y-%m'))\n",
        "ax.set_ylabel(\"Deformation (mm)\")\n",
        "ax.set_title(name)"
      ]
    },
    {
      "cell_type": "markdown",
      "id": "8ce85a26-dd3b-4fe3-a0f8-f50b1079dd27",
      "metadata": {
        "id": "8ce85a26-dd3b-4fe3-a0f8-f50b1079dd27"
      },
      "source": [
        "### Interpreting data"
      ]
    },
    {
      "cell_type": "code",
      "execution_count": null,
      "id": "a8d37d58-a357-432b-9d4c-7a43ea149f0b",
      "metadata": {
        "id": "a8d37d58-a357-432b-9d4c-7a43ea149f0b"
      },
      "outputs": [],
      "source": [
        "fig, ax = plt.subplots(1,1,figsize=(10, 3))\n",
        "# ax.plot(swe_data.time, total_swe_values, zorder=999, lw=4)\n",
        "out = ax.plot(time_insar, insar_mean_time_series, color='C0', lw=4)\n",
        "fmt_month = mdates.MonthLocator()\n",
        "ax.xaxis.set_minor_locator(fmt_month)\n",
        "ax.grid(True, which='both', alpha=0.2)\n",
        "ax.set_xlim(datetime.date(2015, 1, 1), datetime.date(2020, 1, 1))\n",
        "ax.xaxis.set_major_formatter(mdates.DateFormatter('%Y-%m'))\n",
        "ax.set_ylabel(\"Deformation (mm)\")\n",
        "\n",
        "alpha_value = 0.3\n",
        "\n",
        "ax_1 = ax.twinx()\n",
        "colors = ['yellow', 'orange', 'C1', 'red', 'darkred']\n",
        "ax_1.fill_between(center_time, df_drought_index['D0'], y2=df_drought_index['D1'], color=colors[0], label='D0', alpha=alpha_value)\n",
        "ax_1.fill_between(center_time, df_drought_index['D1'], y2=df_drought_index['D2'], color=colors[1], label='D1', alpha=alpha_value)\n",
        "ax_1.fill_between(center_time, df_drought_index['D2'], y2=df_drought_index['D3'], color=colors[2], label='D2', alpha=alpha_value)\n",
        "ax_1.fill_between(center_time, df_drought_index['D3'], y2=df_drought_index['D4'], color=colors[3], label='D3', alpha=alpha_value)\n",
        "ax_1.fill_between(center_time, df_drought_index['D4'], y2=0, color=colors[4], label='D4', alpha=alpha_value)\n",
        "ax_1.legend()\n",
        "ax = plt.gca()\n",
        "ax_1.set_ylabel(\"Drought intensity\")"
      ]
    },
    {
      "cell_type": "markdown",
      "id": "6bd35b23-9c84-4322-b475-9022061e48f0",
      "metadata": {
        "id": "6bd35b23-9c84-4322-b475-9022061e48f0"
      },
      "source": [
        "#### Q3: Do you see any correlation between the two time-series? If so, is the correlation making sense to you? Why?"
      ]
    },
    {
      "cell_type": "markdown",
      "id": "d50ba56d-0b3d-4b83-a25c-0a7b532a910b",
      "metadata": {
        "id": "d50ba56d-0b3d-4b83-a25c-0a7b532a910b"
      },
      "source": [
        "## Work at home\n",
        "Below part of the lab is designed to be finished after the lab time. \n",
        "\n",
        "## Put all things together\n",
        "\n",
        "Load the drought index data for a broader time period and plot them up. "
      ]
    },
    {
      "cell_type": "code",
      "execution_count": null,
      "id": "a0e74015-46f2-45ff-ab8b-c4986b55dd98",
      "metadata": {
        "id": "a0e74015-46f2-45ff-ab8b-c4986b55dd98"
      },
      "outputs": [],
      "source": [
        "df_drought_index = pd.read_csv(\"./taking_the_pulse_data/data/dm_export_20000101_20221128.csv\")\n",
        "\n",
        "start_time = pd.to_datetime(df_drought_index['ValidStart'].values)\n",
        "end_time = pd.to_datetime(df_drought_index['ValidEnd'].values)\n",
        "# Calculate the time interval between the two adjacent time channels\n",
        "dts = end_time.to_pydatetime() - start_time.to_pydatetime()\n",
        "# center time between start and end times\n",
        "center_time = start_time.shift(3, freq='D')"
      ]
    },
    {
      "cell_type": "code",
      "source": [
        "# fill in the the cell, and generate the plot\n",
        "fig = plt.figure(figsize=(20, 3))\n",
        "colors = ['yellow', 'orange', 'C1', 'red', 'darkred']\n",
        "plt.fill_between(center_time, df_drought_index['D0'], y2=df_drought_index['D1'], color=colors[0], label='D0')\n",
        "plt.fill_between(center_time, df_drought_index['D1'], y2=df_drought_index['D2'], color=colors[1], label='D1')\n",
        "plt.fill_between(center_time, df_drought_index['D2'], y2=df_drought_index['D3'], color=colors[2], label='D2')\n",
        "plt.fill_between(center_time, df_drought_index['D3'], y2=df_drought_index['D4'], color=colors[3], label='D3')\n",
        "plt.fill_between(center_time, df_drought_index['D4'], y2=0, color=colors[4], label='D4')\n",
        "plt.legend()\n",
        "ax = plt.gca()\n",
        "fmt_month = mdates.MonthLocator()\n",
        "ax.xaxis.set_minor_locator(fmt_month)\n",
        "ax.grid(True, which='both', alpha=0.2)\n",
        "ax.set_ylabel(\"Drought intensity\")\n",
        "ax.set_title(\"California\")\n",
        "# plt.plot(start_time, df_drought_index['D5'])"
      ],
      "metadata": {
        "id": "R1QiT2TSr6Mr"
      },
      "id": "R1QiT2TSr6Mr",
      "execution_count": null,
      "outputs": []
    },
    {
      "cell_type": "markdown",
      "id": "7eec23b3",
      "metadata": {
        "id": "7eec23b3"
      },
      "source": [
        "#### Q4: Plot the total SWE time-series and the drought index together (fill in the cell below with codes that can generate the plot)"
      ]
    },
    {
      "cell_type": "code",
      "execution_count": null,
      "id": "a7a68b27",
      "metadata": {
        "id": "a7a68b27"
      },
      "outputs": [],
      "source": [
        "fig, ax = plt.subplots(1,1,figsize=(20, 3))\n",
        "ax_1 = ax.twinx()\n",
        "# add a line that can plot the total swe time series\n",
        "# ax.plot(swe_data.time, total_swe_values, zorder=999, lw=4)\n",
        "alpha_value = 0.3\n",
        "colors = ['yellow', 'orange', 'C1', 'red', 'darkred']\n",
        "ax_1.fill_between(center_time, df_drought_index['D0'], y2=df_drought_index['D1'], color=colors[0], label='D0', alpha=alpha_value)\n",
        "ax_1.fill_between(center_time, df_drought_index['D1'], y2=df_drought_index['D2'], color=colors[1], label='D1', alpha=alpha_value)\n",
        "ax_1.fill_between(center_time, df_drought_index['D2'], y2=df_drought_index['D3'], color=colors[2], label='D2', alpha=alpha_value)\n",
        "ax_1.fill_between(center_time, df_drought_index['D3'], y2=df_drought_index['D4'], color=colors[3], label='D3', alpha=alpha_value)\n",
        "ax_1.fill_between(center_time, df_drought_index['D4'], y2=0, color=colors[4], label='D4', alpha=alpha_value)\n",
        "ax_1.legend()\n",
        "ax_1.set_ylabel(\"Drought intensity\")\n",
        "fmt_year = mdates.YearLocator()\n",
        "ax.xaxis.set_major_locator(fmt_year)\n",
        "fmt_month = mdates.MonthLocator()\n",
        "ax.xaxis.set_minor_locator(fmt_month)\n",
        "ax.xaxis.set_major_formatter(mdates.DateFormatter('%Y-%m'))\n",
        "ax.set_ylabel(\"Total SWE (km$^3$)\")\n",
        "ax.grid(True, which='both', alpha=0.2)\n",
        "ax.set_xlim(datetime.date(2000, 1, 1), datetime.date(2023, 1, 1))\n",
        "fig.autofmt_xdate()"
      ]
    },
    {
      "cell_type": "markdown",
      "id": "9b572aa2",
      "metadata": {
        "id": "9b572aa2"
      },
      "source": [
        "#### Q5: Do you see expected correlation between the two time-series? If so, explain your observation. "
      ]
    },
    {
      "cell_type": "markdown",
      "id": "447791ce",
      "metadata": {
        "id": "447791ce"
      },
      "source": [
        "#### Q6: For about 20-year time span, how many years were there where the peak total SWE was greater than 40 km^3?\n",
        "\n",
        "(5 years; 2005, 2006, 2011, 2017, 2019)"
      ]
    },
    {
      "cell_type": "code",
      "execution_count": null,
      "id": "29cc973a",
      "metadata": {
        "id": "29cc973a"
      },
      "outputs": [],
      "source": [
        "# pd.to_datetime(swe_data.time[total_swe_values>40].data).year.unique()"
      ]
    },
    {
      "cell_type": "markdown",
      "id": "134af2d7",
      "metadata": {
        "id": "134af2d7"
      },
      "source": [
        "#### Q7: We will estimate the montly total SWE at the times of the drought index data using a linear regression. Answer the quetions posed below. \n",
        "\n",
        "$$ \\min_{w} || X w - y||_2^2 $$\n",
        "\n",
        "\n",
        " $y$: a vector of observed values (n_samples x 1)\n",
        "- $X$: a matrix (n_samples x n_features)\n",
        "- unknown is a coefficient vector, $w$ (n_features x 1)\n",
        "- `n_samples = n_times`\n",
        "- `n_features = len(['None', 'D0', 'D1', 'D2', 'D3', 'D4'])`"
      ]
    },
    {
      "cell_type": "code",
      "execution_count": null,
      "id": "a7e286d4",
      "metadata": {
        "id": "a7e286d4"
      },
      "outputs": [],
      "source": [
        "# adding center_time to df_drought_index table\n",
        "df_drought_index['center_time'] = center_time\n",
        "df_drought_index = df_drought_index.set_index('center_time')\n",
        "df_drought_index_daily = df_drought_index.resample('D').mean()\n",
        "df_drought_index_daily = df_drought_index_daily.interpolate(method='pad')"
      ]
    },
    {
      "cell_type": "code",
      "execution_count": null,
      "id": "318c281c",
      "metadata": {
        "id": "318c281c"
      },
      "outputs": [],
      "source": [
        "# X = df_drought_index_daily.loc[pd.to_datetime(time_swe.data)][['None', 'D0', 'D1', 'D2', 'D3', 'D4']].values\n",
        "features = ['None', 'D0', 'D1', 'D2', 'D3', 'D4']\n",
        "X = df_drought_index_daily.loc[pd.to_datetime(time_swe.data)][features].values\n",
        "y = total_swe_values"
      ]
    },
    {
      "cell_type": "code",
      "execution_count": null,
      "id": "33b9d1aa",
      "metadata": {
        "id": "33b9d1aa"
      },
      "outputs": [],
      "source": [
        "import numpy as np\n",
        "from sklearn.linear_model import LinearRegression\n",
        "reg = LinearRegression().fit(X, y)\n",
        "reg.score(X, y)\n",
        "y_pred = reg.predict(X)\n",
        "print (\"R^2 coefficient of the least square is {:.2f} (1 is the perfect fit)\".format(reg.score(X, y)))"
      ]
    },
    {
      "cell_type": "markdown",
      "id": "61fce1cc",
      "metadata": {
        "id": "61fce1cc"
      },
      "source": [
        "Plot the observed and predicted data"
      ]
    },
    {
      "cell_type": "code",
      "execution_count": null,
      "id": "78697259",
      "metadata": {
        "id": "78697259"
      },
      "outputs": [],
      "source": [
        "fig, ax = plt.subplots(1,1,figsize=(5, 5))\n",
        "out = ax.scatter(y, y_pred, c=pd.to_datetime(time_swe.data).month, cmap='twilight')\n",
        "plt.colorbar(out, fraction=0.04, ax=ax)\n",
        "ax.set_xlim(0, 50)\n",
        "ax.set_ylim(0, 50)\n",
        "ax = plt.gca()\n",
        "ax.set_aspect(1)\n",
        "ax.grid(True)\n",
        "ax.set_xlabel(\"Observed\")\n",
        "ax.set_ylabel(\"Predicted\")\n",
        "# plt.plot(time_swe,  '.-')?"
      ]
    },
    {
      "cell_type": "markdown",
      "id": "f76fa8a5",
      "metadata": {
        "id": "f76fa8a5"
      },
      "source": [
        "Q7-A Describe the data fit between the observed and the predicted data. "
      ]
    },
    {
      "cell_type": "markdown",
      "id": "637823b0",
      "metadata": {
        "id": "637823b0"
      },
      "source": [
        "Q7-B Fill in `X_est` in the below cell. "
      ]
    },
    {
      "cell_type": "code",
      "execution_count": null,
      "id": "60641dde",
      "metadata": {
        "id": "60641dde"
      },
      "outputs": [],
      "source": [
        "# Fill in X_est\n",
        "# X_est = ??\n",
        "# Solution\n",
        "# X_est = df_drought_index[['None', 'D0', 'D1', 'D2', 'D3', 'D4']].values\n",
        "X_est = df_drought_index[features].values"
      ]
    },
    {
      "cell_type": "markdown",
      "id": "08cbfc24",
      "metadata": {
        "id": "08cbfc24"
      },
      "source": [
        "Estimate the total SWE time-series. "
      ]
    },
    {
      "cell_type": "code",
      "execution_count": null,
      "id": "4067e268",
      "metadata": {
        "id": "4067e268"
      },
      "outputs": [],
      "source": [
        "y_est = reg.predict(X_est)"
      ]
    },
    {
      "cell_type": "markdown",
      "id": "39b124d8",
      "metadata": {
        "id": "39b124d8"
      },
      "source": [
        "Plot the estimated total SWE and observed total SWE"
      ]
    },
    {
      "cell_type": "code",
      "execution_count": null,
      "id": "7de1b00a",
      "metadata": {
        "id": "7de1b00a"
      },
      "outputs": [],
      "source": [
        "fig, ax = plt.subplots(1,1,figsize=(20, 3))\n",
        "ax_1 = ax.twinx()\n",
        "ax.plot(swe_data.time, y, zorder=999, lw=4)\n",
        "ax.plot(center_time, y_est, zorder=999, lw=2, linestyle='--', color='C0')\n",
        "alpha_value = 0.3\n",
        "colors = ['yellow', 'orange', 'C1', 'red', 'darkred']\n",
        "ax_1.fill_between(center_time, df_drought_index['D0'], y2=df_drought_index['D1'], color=colors[0], label='D0', alpha=alpha_value)\n",
        "ax_1.fill_between(center_time, df_drought_index['D1'], y2=df_drought_index['D2'], color=colors[1], label='D1', alpha=alpha_value)\n",
        "ax_1.fill_between(center_time, df_drought_index['D2'], y2=df_drought_index['D3'], color=colors[2], label='D2', alpha=alpha_value)\n",
        "ax_1.fill_between(center_time, df_drought_index['D3'], y2=df_drought_index['D4'], color=colors[3], label='D3', alpha=alpha_value)\n",
        "ax_1.fill_between(center_time, df_drought_index['D4'], y2=0, color=colors[4], label='D4', alpha=alpha_value)\n",
        "ax_1.set_ylabel(\"Drought intensity\")\n",
        "fmt_year = mdates.YearLocator()\n",
        "ax.xaxis.set_major_locator(fmt_year)\n",
        "fmt_month = mdates.MonthLocator()\n",
        "ax.xaxis.set_minor_locator(fmt_month)\n",
        "ax.xaxis.set_major_formatter(mdates.DateFormatter('%Y-%m'))\n",
        "ax.set_ylabel(\"Total SWE (km$^3$)\")\n",
        "ax.grid(True, which='both', alpha=0.2)\n",
        "ax.set_xlim(datetime.date(2000, 1, 1), datetime.date(2023, 1, 1))\n",
        "fig.autofmt_xdate()"
      ]
    },
    {
      "cell_type": "markdown",
      "id": "20514313",
      "metadata": {
        "id": "20514313"
      },
      "source": [
        "Q7-C There are no SWE data after 2019-06-01, but you were able to estimate the total SWE between 2019-06-01 ad 2022-11-25. Do you think your estimated total SWE data at this time interval is accurate? Describe a positive aspect of your estimation. "
      ]
    },
    {
      "cell_type": "markdown",
      "id": "91eae920",
      "metadata": {
        "id": "91eae920"
      },
      "source": [
        "#### Q8 We are going to work on the InSAR data in a groundwater subbasin. Select a subbasin among the options given below, and create a plot displaying the mean InSAR time-series and the drought index together. Set the time period of the display from 2010-01-01 to 2020-01-01. \n",
        "\n",
        "- `SAN JOAQUIN VALLEY - WESTSIDE`\n",
        "- `SAN JOAQUIN VALLEY - KAWEAH`\n",
        "- `REDDING AREA - MILLVILLE`\n",
        "- `SACRAMENTO VALLEY - VINA`"
      ]
    },
    {
      "cell_type": "markdown",
      "id": "593e2477",
      "metadata": {
        "id": "593e2477"
      },
      "source": [
        "Use the below widget to display the selected subasin. "
      ]
    },
    {
      "cell_type": "code",
      "execution_count": null,
      "id": "56369458",
      "metadata": {
        "id": "56369458"
      },
      "outputs": [],
      "source": [
        "Q = interact(foo, name=widgets.Select(options=subbasin_names, value='SAN JOAQUIN VALLEY - TULE'))"
      ]
    },
    {
      "cell_type": "code",
      "execution_count": null,
      "id": "ade24a34",
      "metadata": {
        "id": "ade24a34"
      },
      "outputs": [],
      "source": [
        "# find indicies of the points within a polygon\n",
        "# You neeed to substitute the name \n",
        "name = 'SACRAMENTO VALLEY - VINA'\n",
        "_pnts = gpd.points_from_xy(Xinsar_active, Yinsar_active)\n",
        "pnts = gpd.GeoDataFrame(geometry=_pnts)\n",
        "inds_active_subbasin = pnts.within(\n",
        "    ca_basins_cv.geometry[np.argwhere((ca_basins_cv['Basin_Su_1']==name).values)[0][0]]\n",
        ").values\n",
        "\n",
        "# calculate the mean time-series\n",
        "insar_mean_time_series = insar_active[:,inds_active_subbasin].mean(axis=1)"
      ]
    },
    {
      "cell_type": "code",
      "execution_count": null,
      "id": "85cc2fd1",
      "metadata": {
        "id": "85cc2fd1"
      },
      "outputs": [],
      "source": [
        "fig, ax = plt.subplots(1,1,figsize=(10, 3))\n",
        "# ax.plot(swe_data.time, total_swe_values, zorder=999, lw=4)\n",
        "out = ax.plot(time_insar, insar_mean_time_series, color='C0', lw=4)\n",
        "\n",
        "alpha_value = 0.3\n",
        "\n",
        "ax_1 = ax.twinx()\n",
        "colors = ['yellow', 'orange', 'C1', 'red', 'darkred']\n",
        "ax_1.fill_between(center_time, df_drought_index['D0'], y2=df_drought_index['D1'], color=colors[0], label='D0', alpha=alpha_value)\n",
        "ax_1.fill_between(center_time, df_drought_index['D1'], y2=df_drought_index['D2'], color=colors[1], label='D1', alpha=alpha_value)\n",
        "ax_1.fill_between(center_time, df_drought_index['D2'], y2=df_drought_index['D3'], color=colors[2], label='D2', alpha=alpha_value)\n",
        "ax_1.fill_between(center_time, df_drought_index['D3'], y2=df_drought_index['D4'], color=colors[3], label='D3', alpha=alpha_value)\n",
        "ax_1.fill_between(center_time, df_drought_index['D4'], y2=0, color=colors[4], label='D4', alpha=alpha_value)\n",
        "# ax_1.legend()\n",
        "ax_1.set_ylabel(\"Drought intensity\")\n",
        "fmt_month = mdates.MonthLocator()\n",
        "ax.xaxis.set_minor_locator(fmt_month)\n",
        "ax.set_xlim(datetime.date(2010, 1, 1), datetime.date(2020, 1, 1))\n",
        "ax.xaxis.set_major_formatter(mdates.DateFormatter('%Y-%m'))\n",
        "ax.set_ylabel(\"Deformation (mm)\")\n",
        "ax.grid(True, which='both', alpha=0.2)\n",
        "fig.autofmt_xdate()"
      ]
    },
    {
      "cell_type": "markdown",
      "id": "cb011168",
      "metadata": {
        "id": "cb011168"
      },
      "source": [
        "Q8-A What is the cause of the interannual subsidence? Describe the causal relationship between the two time-series [Note: be specific about the interannual trend of the two time-series]. "
      ]
    },
    {
      "cell_type": "markdown",
      "id": "6e4de579",
      "metadata": {
        "id": "6e4de579"
      },
      "source": [
        "Reduce the time period of the plot from 2015-01-01 to 2020-01-01."
      ]
    },
    {
      "cell_type": "code",
      "execution_count": null,
      "id": "2a682a46",
      "metadata": {
        "id": "2a682a46"
      },
      "outputs": [],
      "source": [
        "fig, ax = plt.subplots(1,1,figsize=(10, 3))\n",
        "# ax.plot(swe_data.time, total_swe_values, zorder=999, lw=4)\n",
        "out = ax.plot(time_insar, insar_mean_time_series, color='C0', lw=4)\n",
        "\n",
        "alpha_value = 0.3\n",
        "\n",
        "ax_1 = ax.twinx()\n",
        "colors = ['yellow', 'orange', 'C1', 'red', 'darkred']\n",
        "ax_1.fill_between(center_time, df_drought_index['D0'], y2=df_drought_index['D1'], color=colors[0], label='D0', alpha=alpha_value)\n",
        "ax_1.fill_between(center_time, df_drought_index['D1'], y2=df_drought_index['D2'], color=colors[1], label='D1', alpha=alpha_value)\n",
        "ax_1.fill_between(center_time, df_drought_index['D2'], y2=df_drought_index['D3'], color=colors[2], label='D2', alpha=alpha_value)\n",
        "ax_1.fill_between(center_time, df_drought_index['D3'], y2=df_drought_index['D4'], color=colors[3], label='D3', alpha=alpha_value)\n",
        "ax_1.fill_between(center_time, df_drought_index['D4'], y2=0, color=colors[4], label='D4', alpha=alpha_value)\n",
        "# ax_1.legend()\n",
        "ax_1.set_ylabel(\"Drought intensity\")\n",
        "fmt_month = mdates.MonthLocator()\n",
        "ax.xaxis.set_minor_locator(fmt_month)\n",
        "ax.set_xlim(datetime.date(2015, 1, 1), datetime.date(2020, 1, 1))\n",
        "ax.xaxis.set_major_formatter(mdates.DateFormatter('%Y-%m'))\n",
        "ax.set_ylabel(\"Deformation (mm)\")\n",
        "ax.grid(True, which='both', alpha=0.2)\n",
        "fig.autofmt_xdate()"
      ]
    },
    {
      "cell_type": "markdown",
      "id": "f5cea5b3",
      "metadata": {
        "id": "f5cea5b3"
      },
      "source": [
        "Q8-B Do you see any seasonal trends? If not your answer is simply \"no\". If so, describe the seasonal trends in the mean InSAR time-series (e.g., timing of peaks and troughts; amplitude), and explain the cause of the seasonal trend. "
      ]
    },
    {
      "cell_type": "markdown",
      "source": [
        "[ANSWER] Q8-B: FILL IN"
      ],
      "metadata": {
        "id": "CyKhGYWcq6BZ"
      },
      "id": "CyKhGYWcq6BZ"
    },
    {
      "cell_type": "markdown",
      "id": "f6a78041",
      "metadata": {
        "id": "f6a78041"
      },
      "source": [
        "Q9 **[BONUS question, but advanced]** Our estimate of the total SWE time-series from using the drought index time-series was relatively poor (R^2 about 0.26). \n",
        "\n",
        "A) Obtain the mean InSAR time-series within `REDDING AREA - MILLVILLE` or \n",
        "\n",
        "`SACRAMENTO VALLEY - VINA`; \n",
        "\n",
        "B) Detrend the interannual trend within the mean time-series (e.g., use moving average with one-year window);\n",
        "\n",
        " C) Use the detrended mean InSAR time-series as well as the drought index to estimate the total SWE time-series using a linear regression; report your score of the linear regression (i.e., R^2). "
      ]
    },
    {
      "cell_type": "code",
      "source": [],
      "metadata": {
        "id": "48HhgJBciwXq"
      },
      "id": "48HhgJBciwXq",
      "execution_count": null,
      "outputs": []
    }
  ],
  "metadata": {
    "kernelspec": {
      "display_name": "Python 3 (ipykernel)",
      "language": "python",
      "name": "python3"
    },
    "language_info": {
      "codemirror_mode": {
        "name": "ipython",
        "version": 3
      },
      "file_extension": ".py",
      "mimetype": "text/x-python",
      "name": "python",
      "nbconvert_exporter": "python",
      "pygments_lexer": "ipython3",
      "version": "3.9.5"
    },
    "colab": {
      "provenance": [],
      "collapsed_sections": [
        "f4090593-5ffc-4d9d-a254-4c6cd1a52c3c",
        "6bd35b23-9c84-4322-b475-9022061e48f0",
        "9b572aa2"
      ],
      "include_colab_link": true
    }
  },
  "nbformat": 4,
  "nbformat_minor": 5
}